{
  "cells": [
    {
      "cell_type": "code",
      "execution_count": 16,
      "metadata": {
        "colab": {
          "base_uri": "https://localhost:8080/"
        },
        "id": "6zADo6_l_HC2",
        "outputId": "bdd7b376-798d-43f0-ec2d-02dca1694a43"
      },
      "outputs": [
        {
          "name": "stdout",
          "output_type": "stream",
          "text": [
            "A = \n",
            " [[0 1 1 0 1 0]\n",
            " [1 0 0 1 0 0]\n",
            " [1 1 1 0 1 0]\n",
            " [0 0 0 0 1 0]\n",
            " [0 1 1 0 1 0]\n",
            " [1 0 1 0 1 0]\n",
            " [0 0 0 0 0 1]\n",
            " [1 1 1 1 0 0]]\n",
            "B = \n",
            " [[-1  1]\n",
            " [ 1 -1]]\n",
            "C = \n",
            " [[ 2.  0. -2.  2. -1.  0.  0.]\n",
            " [-1.  0.  2. -2.  1.  0.  0.]\n",
            " [ 0.  0. -1.  0.  0.  0.  0.]\n",
            " [-1.  0.  1.  0.  0.  0.  0.]\n",
            " [ 2. -1.  0.  0.  0.  0.  0.]\n",
            " [-1.  1. -1.  1. -2.  1.  0.]\n",
            " [ 0.  0.  0.  1.  1. -1.  0.]\n",
            " [ 0.  0.  0. -1.  0.  0.  0.]\n",
            " [ 0.  0.  0.  0.  0.  0.  0.]]\n"
          ]
        }
      ],
      "source": [
        "from random import random\n",
        "import numpy as np\n",
        "from google.colab.patches import cv2\n",
        "import matplotlib.pyplot as plt\n",
        "\n",
        "def convolution_2D_layer(A, B):\n",
        "    m, n = A.shape\n",
        "    p, q = B.shape\n",
        "    C = np.zeros((m+p-1, n+q-1))\n",
        "    # Crs = Aij * Bkl i+k=r+1 & j+l=s+1\n",
        "    for r in range(m+p-1):\n",
        "        for s in range(n+q-1):\n",
        "            for i in range(m):\n",
        "                for j in range(n):\n",
        "                    k = r + 1 - i\n",
        "                    l = s + 1 - j\n",
        "                    if k>=0 and k<p and l>=0 and l<q:\n",
        "                        C[r][s] += A[i][j] * B[k][l]\n",
        "\n",
        "    return C\n",
        "\n",
        "def main():\n",
        "    # PART A\n",
        "    A = np.random.randint(2, size=(8, 6))\n",
        "    B = np.array([[-1, 1], [1, -1]])\n",
        "    print(\"A = \\n\", A)\n",
        "    print(\"B = \\n\", B)\n",
        "    C = convolution_2D_layer(A, B)\n",
        "    print(\"C = \\n\", C)\n",
        "\n",
        "    # PART B\n",
        "    A = cv2.imread(\"zero.jpeg\", 0)\n",
        "    D = np.array([[1, -1]])\n",
        "    C = convolution_2D_layer(A, D)\n",
        "    # cv2.imshow(\"A\", A)\n",
        "    # cv2.imshow(\"C\", C)\n",
        "    cv2.imwrite(\"zero_edge.jpg\", C)\n",
        "    cv2.waitKey(0)\n",
        "    cv2.destroyAllWindows()\n",
        "\n",
        "    A = cv2.imread(\"nine.jpeg\", 0)\n",
        "    D = np.array([[1, -1]])\n",
        "    C = convolution_2D_layer(A, D)\n",
        "    #cv2.imshow(\"A\", A)\n",
        "    #cv2.imshow(\"C\"  , C)\n",
        "    cv2.imwrite(\"nine_edge.jpg\", C)\n",
        "    cv2.waitKey(0)\n",
        "    cv2.destroyAllWindows()\n",
        "\n",
        "    \n",
        "    A = cv2.imread(\"one.jpeg\", 0)\n",
        "    D = np.array([[1, -1]])\n",
        "    C = convolution_2D_layer(A, D)\n",
        "    #cv2.imshow(\"A\", A)\n",
        "    #cv2.imshow(\"C\"  , C)\n",
        "    cv2.imwrite(\"one_edge.jpg\", C)\n",
        "    cv2.waitKey(0)\n",
        "    cv2.destroyAllWindows()\n",
        "\n",
        "if __name__ == \"__main__\":\n",
        "    main()"
      ]
    }
  ],
  "metadata": {
    "colab": {
      "provenance": []
    },
    "kernelspec": {
      "display_name": "Python 3.8.9 64-bit",
      "language": "python",
      "name": "python3"
    },
    "language_info": {
      "name": "python",
      "version": "3.8.9"
    },
    "vscode": {
      "interpreter": {
        "hash": "31f2aee4e71d21fbe5cf8b01ff0e069b9275f58929596ceb00d14d90e3e16cd6"
      }
    }
  },
  "nbformat": 4,
  "nbformat_minor": 0
}
