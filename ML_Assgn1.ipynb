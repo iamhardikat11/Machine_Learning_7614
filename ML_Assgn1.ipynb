{
  "cells": [
    {
      "cell_type": "code",
      "execution_count": null,
      "metadata": {
        "id": "RsurAGpf5rrq"
      },
      "outputs": [],
      "source": [
        "import numpy as np\n",
        "import pandas as pd\n",
        "import matplotlib.pyplot as plt\n",
        "# import math\n",
        "from sklearn.metrics import accuracy_score\n",
        "from sklearn.model_selection import train_test_split"
      ]
    },
    {
      "cell_type": "code",
      "execution_count": null,
      "metadata": {
        "id": "flMS5BiiAsEA"
      },
      "outputs": [],
      "source": [
        "def xlogx(x):\n",
        "    return x * np.log2(x)\n",
        "\n",
        "def cal_entropy(train_data, train_labels):\n",
        "    entropy = 0\n",
        "    values = train_labels.unique()\n",
        "    for value in values:\n",
        "        fraction = train_labels.value_counts()[value]/len(train_data)\n",
        "        entropy -= xlogx(fraction)\n",
        "    return entropy\n",
        "\n",
        "def cal_entropy_feature(train_data, train_labels, feature):\n",
        "    target_variables = train_labels.unique()\n",
        "    variables = train_data[feature].unique()\n",
        "    feature_entropy = 0\n",
        "    epsilon = np.finfo(float).eps\n",
        "    for variable in variables:\n",
        "        entropy = 0\n",
        "        feat = train_data[feature]\n",
        "        feat_var = feat[feat == variable]\n",
        "        den = len(feat_var)\n",
        "        for target_variable in target_variables:\n",
        "            num = len(feat_var[train_labels == target_variable])\n",
        "            fraction =  num/(den + epsilon)\n",
        "            entropy -= fraction*np.log(fraction + epsilon)\n",
        "        fraction = den/len(train_data)\n",
        "        feature_entropy -= fraction * entropy\n",
        "    return abs(feature_entropy)\n",
        "\n",
        "def get_best_feature(train_data, train_labels):\n",
        "    IG = []\n",
        "    for key in train_data.keys():\n",
        "        IG.append(cal_entropy(train_data, train_labels) -\n",
        "         cal_entropy_feature(train_data, train_labels, key))\n",
        "    return train_data.keys()[np.argmax(IG)]\n",
        "\n",
        "def data_cleanup(df):\n",
        "    \"\"\"\n",
        "    Handling missing data using an imputing strategy and converting numerical columns to categorical.\n",
        "    For now:\n",
        "    Missing categorical data is filled with mode.\n",
        "    Missing numerical data is filled with median.\n",
        "    \"\"\"\n",
        "\n",
        "    # Fill categorical data with mode\n",
        "    df['Ever_Married'].fillna(df['Ever_Married'].mode()[0], inplace=True)\n",
        "    df['Graduated'].fillna(df['Graduated'].mode()[0], inplace=True)\n",
        "    df['Profession'].fillna(df['Profession'].mode()[0], inplace=True)\n",
        "    df['Var_1'].fillna(df['Var_1'].mode()[0], inplace=True)\n",
        "\n",
        "    # Fill numerical data with median\n",
        "    df['Work_Experience'].fillna(df['Work_Experience'].median(), inplace=True)\n",
        "    df['Family_Size'].fillna(df['Family_Size'].median(), inplace=True)\n",
        "\n",
        "    # Convert age to categorical using label encoding based on certain range\n",
        "    df['Age'] = df['Age'].mask(df['Age'] <= 12, 1)\n",
        "    df['Age'] = df['Age'].mask((df['Age'] > 12) & (df['Age'] <= 19), 2)\n",
        "    df['Age'] = df['Age'].mask((df['Age'] > 19) & (df['Age'] <= 26), 3)\n",
        "    df['Age'] = df['Age'].mask((df['Age'] > 26) & (df['Age'] <= 45), 4)\n",
        "    df['Age'] = df['Age'].mask((df['Age'] > 45) & (df['Age'] <= 60), 5)\n",
        "    df['Age'] = df['Age'].mask(df['Age'] > 60, 6)\n",
        "\n",
        "    # Convert Work_Experience to categorical\n",
        "    df['Work_Experience'] = df['Work_Experience'].mask(df['Work_Experience'] <= 2, 1)\n",
        "    df['Work_Experience'] = df['Work_Experience'].mask((df['Work_Experience'] > 2) & (df['Work_Experience'] <= 5), 2)\n",
        "    df['Work_Experience'] = df['Work_Experience'].mask((df['Work_Experience'] > 5) & (df['Work_Experience'] <= 8), 3)\n",
        "    df['Work_Experience'] = df['Work_Experience'].mask(df['Work_Experience'] > 8, 4)\n",
        "\n",
        "    # Convert Family_Size to categorical\n",
        "    df['Family_Size'] = df['Family_Size'].mask(df['Family_Size'] <= 2, 1)\n",
        "    df['Family_Size'] = df['Family_Size'].mask((df['Family_Size'] > 2) & (df['Family_Size'] <= 4), 2)\n",
        "    df['Family_Size'] = df['Family_Size'].mask(df['Family_Size'] > 4, 3)\n",
        "\n",
        "    # Drop features with 3 or more columns as NaN\n",
        "    idxs = []\n",
        "    for i in range(len(df)):\n",
        "        cnt = df.iloc[i].isnull().sum()\n",
        "        if(cnt >= 3):\n",
        "            idxs.append(i)\n",
        "    df.drop(idxs, axis = 0, inplace=True)\n",
        "    # df = df.astype(str)\n",
        "    return df"
      ]
    },
    {
      "cell_type": "code",
      "execution_count": null,
      "metadata": {
        "id": "as3e62RFZWlr"
      },
      "outputs": [],
      "source": [
        "# Implement the Node class for Decision Tree\n",
        "class Node:\n",
        "    \"\"\"\n",
        "    The Node class for our decision tree.\n",
        "    It contains the attributes required for each node and functions for various tasks.\n",
        "    \"\"\"\n",
        "\n",
        "    def __init__(self, attr, prob_label):\n",
        "        \"\"\"\n",
        "        Initializes a node with proper values.\n",
        "        Args:\n",
        "            attr (str): The decision attribute selected for the node\n",
        "                    on the basis of which we split the tree further.\n",
        "            prob_label (int): This is the most probable outcome if we were to convert this \n",
        "                    node to a leaf. It is calculated by determining which outcome \n",
        "                    occurs the most in the data points we have at this node.\n",
        "        \"\"\"\n",
        "        self.attr = attr\n",
        "        self.prob_label = prob_label\n",
        "        self.children = {}         # dictionary of children nodes\n",
        "    \n",
        "    def is_leaf(self):\n",
        "        \"\"\"\n",
        "        Checks if the given node is a leaf.\n",
        "        Returns:\n",
        "            bool: True, if the node is a leaf, otherwise False.\n",
        "        \"\"\"\n",
        "        return not self.children       # if the node has no children, it is a leaf\n",
        "    \n",
        "    def node_count(self):\n",
        "        \"\"\"\n",
        "        Finds the number of nodes in the subtree rooted at the given node.\n",
        "        Returns:\n",
        "            int: Number of nodes in the subtree.\n",
        "        \"\"\"\n",
        "        if self.is_leaf():\n",
        "            return 1\n",
        "        count = 1\n",
        "        for child in self.children.values():\n",
        "            count += child.node_count()\n",
        "        return count\n",
        "    \n",
        "class DecisionTree:\n",
        "    \"\"\"\n",
        "    The main Decision Tree class having metadata for the decision tree, and functions\n",
        "    for various operations of the decision tree.\n",
        "    \"\"\"\n",
        "    def __init__(self, max_depth=10, min_samples=1):\n",
        "        \"\"\"\n",
        "        Initializes a decision tree with proper metadata.\n",
        "        Args:\n",
        "            max_depth (int, optional): Maxmimum depth of the decision tree. Defaults to 15.\n",
        "            min_samples (int, optional): Minimum number of samples that must be present to\n",
        "                    branch the tree further. Defaults to 1.\n",
        "        \"\"\"\n",
        "        self.root = None\n",
        "        self.max_depth = max_depth\n",
        "        self.min_samples = min_samples\n",
        "        self.tree_depth = 0\n",
        "    \n",
        "    def train(self, train):\n",
        "        \"\"\"\n",
        "        Trains the decision tree model.\n",
        "        Args:\n",
        "            train (pd.DataFrame): The training dataset.\n",
        "        \"\"\"\n",
        "        train_data = train.drop(['ID', 'Segmentation'], axis=1)\n",
        "        train_labels = train['Segmentation']\n",
        "        self.root = self.build_tree(train_data, train_labels)\n",
        "    \n",
        "    def build_tree(self, train_data, train_labels, depth=0):\n",
        "        \"\"\"\n",
        "        Builds the entire decision tree recursively, by selecting the feature to be split on,\n",
        "        and then splitting the data into all unique values of that feature.\n",
        "        Args:\n",
        "            train_data (pd.DataFrame): The training dataset without the output labels.\n",
        "            train_labels (pd.Series): The output labels for each row in the training dataset.\n",
        "            depth (int, optional): Depth of the current node. Defaults to 0.\n",
        "        Returns:\n",
        "            Node: Root node of the tree\n",
        "        \"\"\"\n",
        "\n",
        "        # if maximum depth is reached, or if we do not have enough samples, or all the samples have the same outcome label\n",
        "        # then make this node a leaf\n",
        "        if (depth == self.max_depth) or (len(train_data) <= self.min_samples) or (len(train_labels.unique()) == 1):\n",
        "            return self.create_leaf(train_labels)\n",
        "\n",
        "        attr = get_best_feature(train_data, train_labels)\n",
        "        node = Node(attr, train_labels.value_counts().sort_index().idxmax())\n",
        "\n",
        "        # # handle missing data in the best attribute\n",
        "        # if train_data[attr].isnull().any():\n",
        "        #     print(attr)\n",
        "        #     print(train_data[attr].mode())\n",
        "        #     train_data[attr].fillna(train_data[attr].mode()[0], inplace = True)\n",
        "\n",
        "        # split the data into all unique values of the best attribute\n",
        "        for val in train_data[attr].unique():\n",
        "            data_subset = train_data[train_data[attr] == val]\n",
        "            data_subset.drop(attr, axis=1, inplace=True)\n",
        "            labels_subset = train_labels[data_subset.index]\n",
        "\n",
        "            if data_subset.empty:\n",
        "                return self.create_leaf(train_labels)\n",
        "\n",
        "            node.children[val] = self.build_tree(data_subset, labels_subset, depth + 1)\n",
        "\n",
        "        self.tree_depth = max(self.tree_depth, depth)\n",
        "        return node\n",
        "\n",
        "    def create_leaf(self, labels):\n",
        "        \"\"\"\n",
        "        Creates and returns a leaf node for the decision tree.\n",
        "        Args:\n",
        "            labels (pd.Series): The output labels of the data points at this node.\n",
        "        Returns:\n",
        "            Node: The leaf node created.\n",
        "        \"\"\"\n",
        "        prob_label = labels.value_counts().sort_index().idxmax()\n",
        "        return Node('Segmentation', prob_label)\n",
        "\n",
        "\n",
        "    def predict_one(self, test_instance, root):\n",
        "        \"\"\"\n",
        "        Predicts the outcome on one row of data i.e. one test instance.\n",
        "        Args:\n",
        "            test_instance (dict): The test instance for which prediction is to be made.\n",
        "            root (Node): The root node of the decision tree.\n",
        "        Returns:\n",
        "            string: Returns the predicted value from the set of labels.\n",
        "        \"\"\"\n",
        "        if root.is_leaf():\n",
        "            return root.prob_label\n",
        "        edge = test_instance[root.attr]\n",
        "\n",
        "        if edge not in root.children:\n",
        "            return root.prob_label\n",
        "        return self.predict_one(test_instance, root.children[edge])\n",
        "\n",
        "    def predict(self, test_data):\n",
        "        \"\"\"\n",
        "        Predicts the outcome on a set of test data.\n",
        "        Args:\n",
        "            test_data (pd.DataFrame): The test dataset for which predictions are to be made.\n",
        "        Returns:\n",
        "            pd.Series: Predicted outcomes (series of 0, 1 values) for the test dataset.\n",
        "        \"\"\"\n",
        "        predictions = pd.Series([self.predict_one(row, self.root) for row in test_data.to_dict(orient='records')])\n",
        "        return predictions"
      ]
    },
    {
      "cell_type": "code",
      "source": [
        "data = pd.read_csv('Dataset_A.csv')\n",
        "data = data_cleanup(data)\n",
        "\n",
        "for i in range(1, 11):\n",
        "    train_data, test_data = train_test_split(data, test_size = 0.2, random_state=42+i)\n",
        "    dt = DecisionTree(max_depth = len(train_data.columns)-2)\n",
        "    dt.train(train_data)\n",
        "    print(dt.tree_depth)\n",
        "    pred = dt.predict(test_data)\n",
        "    acc = accuracy_score(test_data.iloc[:, -1], pred)\n",
        "    print(f\"Seed value = {(42+i)}, accuracy = {(acc*100.0)}\")"
      ],
      "metadata": {
        "colab": {
          "base_uri": "https://localhost:8080/"
        },
        "id": "0bf0WhaVFJnZ",
        "outputId": "a414829d-ab85-4f69-a351-48056d693ce3"
      },
      "execution_count": null,
      "outputs": [
        {
          "output_type": "stream",
          "name": "stderr",
          "text": [
            "/usr/local/lib/python3.7/dist-packages/pandas/core/frame.py:4913: SettingWithCopyWarning: \n",
            "A value is trying to be set on a copy of a slice from a DataFrame\n",
            "\n",
            "See the caveats in the documentation: https://pandas.pydata.org/pandas-docs/stable/user_guide/indexing.html#returning-a-view-versus-a-copy\n",
            "  errors=errors,\n"
          ]
        },
        {
          "output_type": "stream",
          "name": "stdout",
          "text": [
            "7\n",
            "Seed value = 43, accuracy = 45.10532837670384\n"
          ]
        },
        {
          "output_type": "stream",
          "name": "stderr",
          "text": [
            "/usr/local/lib/python3.7/dist-packages/pandas/core/frame.py:4913: SettingWithCopyWarning: \n",
            "A value is trying to be set on a copy of a slice from a DataFrame\n",
            "\n",
            "See the caveats in the documentation: https://pandas.pydata.org/pandas-docs/stable/user_guide/indexing.html#returning-a-view-versus-a-copy\n",
            "  errors=errors,\n"
          ]
        },
        {
          "output_type": "stream",
          "name": "stdout",
          "text": [
            "7\n",
            "Seed value = 44, accuracy = 45.16728624535316\n"
          ]
        },
        {
          "output_type": "stream",
          "name": "stderr",
          "text": [
            "/usr/local/lib/python3.7/dist-packages/pandas/core/frame.py:4913: SettingWithCopyWarning: \n",
            "A value is trying to be set on a copy of a slice from a DataFrame\n",
            "\n",
            "See the caveats in the documentation: https://pandas.pydata.org/pandas-docs/stable/user_guide/indexing.html#returning-a-view-versus-a-copy\n",
            "  errors=errors,\n"
          ]
        },
        {
          "output_type": "stream",
          "name": "stdout",
          "text": [
            "7\n",
            "Seed value = 45, accuracy = 46.84014869888476\n"
          ]
        },
        {
          "output_type": "stream",
          "name": "stderr",
          "text": [
            "/usr/local/lib/python3.7/dist-packages/pandas/core/frame.py:4913: SettingWithCopyWarning: \n",
            "A value is trying to be set on a copy of a slice from a DataFrame\n",
            "\n",
            "See the caveats in the documentation: https://pandas.pydata.org/pandas-docs/stable/user_guide/indexing.html#returning-a-view-versus-a-copy\n",
            "  errors=errors,\n"
          ]
        },
        {
          "output_type": "stream",
          "name": "stdout",
          "text": [
            "7\n",
            "Seed value = 46, accuracy = 47.70755885997522\n"
          ]
        },
        {
          "output_type": "stream",
          "name": "stderr",
          "text": [
            "/usr/local/lib/python3.7/dist-packages/pandas/core/frame.py:4913: SettingWithCopyWarning: \n",
            "A value is trying to be set on a copy of a slice from a DataFrame\n",
            "\n",
            "See the caveats in the documentation: https://pandas.pydata.org/pandas-docs/stable/user_guide/indexing.html#returning-a-view-versus-a-copy\n",
            "  errors=errors,\n"
          ]
        },
        {
          "output_type": "stream",
          "name": "stdout",
          "text": [
            "7\n",
            "Seed value = 47, accuracy = 44.85749690210657\n"
          ]
        },
        {
          "output_type": "stream",
          "name": "stderr",
          "text": [
            "/usr/local/lib/python3.7/dist-packages/pandas/core/frame.py:4913: SettingWithCopyWarning: \n",
            "A value is trying to be set on a copy of a slice from a DataFrame\n",
            "\n",
            "See the caveats in the documentation: https://pandas.pydata.org/pandas-docs/stable/user_guide/indexing.html#returning-a-view-versus-a-copy\n",
            "  errors=errors,\n"
          ]
        },
        {
          "output_type": "stream",
          "name": "stdout",
          "text": [
            "7\n",
            "Seed value = 48, accuracy = 45.72490706319702\n"
          ]
        },
        {
          "output_type": "stream",
          "name": "stderr",
          "text": [
            "/usr/local/lib/python3.7/dist-packages/pandas/core/frame.py:4913: SettingWithCopyWarning: \n",
            "A value is trying to be set on a copy of a slice from a DataFrame\n",
            "\n",
            "See the caveats in the documentation: https://pandas.pydata.org/pandas-docs/stable/user_guide/indexing.html#returning-a-view-versus-a-copy\n",
            "  errors=errors,\n"
          ]
        },
        {
          "output_type": "stream",
          "name": "stdout",
          "text": [
            "7\n",
            "Seed value = 49, accuracy = 45.66294919454771\n"
          ]
        },
        {
          "output_type": "stream",
          "name": "stderr",
          "text": [
            "/usr/local/lib/python3.7/dist-packages/pandas/core/frame.py:4913: SettingWithCopyWarning: \n",
            "A value is trying to be set on a copy of a slice from a DataFrame\n",
            "\n",
            "See the caveats in the documentation: https://pandas.pydata.org/pandas-docs/stable/user_guide/indexing.html#returning-a-view-versus-a-copy\n",
            "  errors=errors,\n"
          ]
        },
        {
          "output_type": "stream",
          "name": "stdout",
          "text": [
            "7\n",
            "Seed value = 50, accuracy = 45.66294919454771\n"
          ]
        },
        {
          "output_type": "stream",
          "name": "stderr",
          "text": [
            "/usr/local/lib/python3.7/dist-packages/pandas/core/frame.py:4913: SettingWithCopyWarning: \n",
            "A value is trying to be set on a copy of a slice from a DataFrame\n",
            "\n",
            "See the caveats in the documentation: https://pandas.pydata.org/pandas-docs/stable/user_guide/indexing.html#returning-a-view-versus-a-copy\n",
            "  errors=errors,\n"
          ]
        },
        {
          "output_type": "stream",
          "name": "stdout",
          "text": [
            "7\n",
            "Seed value = 51, accuracy = 46.77819083023544\n"
          ]
        },
        {
          "output_type": "stream",
          "name": "stderr",
          "text": [
            "/usr/local/lib/python3.7/dist-packages/pandas/core/frame.py:4913: SettingWithCopyWarning: \n",
            "A value is trying to be set on a copy of a slice from a DataFrame\n",
            "\n",
            "See the caveats in the documentation: https://pandas.pydata.org/pandas-docs/stable/user_guide/indexing.html#returning-a-view-versus-a-copy\n",
            "  errors=errors,\n"
          ]
        }
      ]
    },
    {
      "cell_type": "code",
      "source": [],
      "metadata": {
        "id": "8f9ft7osTzov"
      },
      "execution_count": null,
      "outputs": []
    }
  ],
  "metadata": {
    "colab": {
      "provenance": []
    },
    "kernelspec": {
      "display_name": "Python 3",
      "name": "python3"
    },
    "language_info": {
      "name": "python"
    }
  },
  "nbformat": 4,
  "nbformat_minor": 0
}